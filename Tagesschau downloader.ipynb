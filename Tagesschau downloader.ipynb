{
 "cells": [
  {
   "cell_type": "code",
   "execution_count": 1,
   "id": "5f506730-c110-4e79-95b3-a11396b7b8b9",
   "metadata": {},
   "outputs": [],
   "source": [
    "import requests\n",
    "import datetime\n",
    "import xml.etree.ElementTree as ET\n",
    "import os"
   ]
  },
  {
   "cell_type": "code",
   "execution_count": 2,
   "id": "8cdf65b5-ed15-4bb9-af33-683506e47ae8",
   "metadata": {},
   "outputs": [],
   "source": [
    "# Define some useful variables/constants\n",
    "DATE_STRING = '%a, %d %b %Y %H:%M:%S %z'\n",
    "TODAY_DAY_OF_YEAR = int(datetime.datetime.now().strftime('%j'))\n",
    "SEASON_SUBTRACT = 1951\n",
    "VIDEO_DIRECTORY = '/home/xander/gdrive/Tagesschau'"
   ]
  },
  {
   "cell_type": "code",
   "execution_count": 3,
   "id": "fb61e276-7cae-4fc2-923d-0bde42b4de54",
   "metadata": {},
   "outputs": [],
   "source": [
    "def current_season(time):\n",
    "    return time.year - SEASON_SUBTRACT"
   ]
  },
  {
   "cell_type": "code",
   "execution_count": 4,
   "id": "4fa8b252-7357-4fcf-a09e-6dbdb644ebf3",
   "metadata": {},
   "outputs": [
    {
     "data": {
      "text/plain": [
       "36589"
      ]
     },
     "execution_count": 4,
     "metadata": {},
     "output_type": "execute_result"
    }
   ],
   "source": [
    "# Retrieve the current feed\n",
    "url = 'https://www.tagesschau.de/export/video-podcast/webxl/tagesschau_https/'\n",
    "feed = requests.get(url)\n",
    "open('feed.xml', 'wb').write(feed.content)"
   ]
  },
  {
   "cell_type": "code",
   "execution_count": 5,
   "id": "9e3c9d60-8d8f-4dcc-9105-63a5aee64b71",
   "metadata": {},
   "outputs": [],
   "source": [
    "# Parse the XML into a tree\n",
    "tree = ET.parse('feed.xml')\n",
    "root = tree.getroot()"
   ]
  },
  {
   "cell_type": "code",
   "execution_count": 6,
   "id": "40c10186-7701-441f-8a9a-f05c4a557eb7",
   "metadata": {},
   "outputs": [],
   "source": [
    "# Based on https://stackoverflow.com/a/68082847/2378368\n",
    "# Parses a given ElementTree into a dictionary\n",
    "def etree_to_dict(t):\n",
    "    if type(t) is ET.ElementTree: return etree_to_dict(t.getroot())\n",
    "    return {\n",
    "        **t.attrib,\n",
    "        'text': t.text,\n",
    "        **{e.tag: etree_to_dict(e) for e in t}\n",
    "    }"
   ]
  },
  {
   "cell_type": "code",
   "execution_count": 7,
   "id": "89125566-e2b5-401a-8fc3-a78c460c53bf",
   "metadata": {},
   "outputs": [],
   "source": [
    "def get_season_dir(season, root_dir=VIDEO_DIRECTORY):\n",
    "    season_dir_name = 'Season ' + str(season)\n",
    "    season_dir_path = os.path.join(root_dir, season_dir_name)\n",
    "    if season_dir_name not in os.listdir(root_dir):\n",
    "        # The directory for this season does not exist yet; create it\n",
    "        os.mkdir(season_dir_path)\n",
    "    return season_dir_path"
   ]
  },
  {
   "cell_type": "code",
   "execution_count": 8,
   "id": "8c5000e4-1fed-4992-b812-a5c78d86e81a",
   "metadata": {},
   "outputs": [],
   "source": [
    "def episode_exists(episode_number, season_number, season_dir):\n",
    "    filename_start = 'Tagesschau - s' + str(season_number) + 'e' + str(episode_number)\n",
    "    # Go over all files\n",
    "    for file in os.listdir(season_dir):\n",
    "        if filename_start in file:\n",
    "            return True\n",
    "    # If the current episode is not found, it does not exist yet\n",
    "    return False"
   ]
  },
  {
   "cell_type": "code",
   "execution_count": 9,
   "id": "216821c6-d5f4-4c12-88c3-c6418e699301",
   "metadata": {},
   "outputs": [],
   "source": [
    "# Processes a single episode\n",
    "def process_episode(episode):\n",
    "    time = datetime.datetime.strptime(episode['pubDate']['text'], DATE_STRING)\n",
    "    # Compute the episode number (a.k.a. the day of the year)\n",
    "    day_of_year = int(time.strftime('%j'))\n",
    "    season = current_season(time)\n",
    "    current_season_dir = get_season_dir(season, VIDEO_DIRECTORY)\n",
    "    if not episode_exists(day_of_year, season, current_season_dir):\n",
    "        # Download this episode and store it\n",
    "        episode_url = episode['enclosure']['url']\n",
    "        file = open(os.path.join(current_season_dir, 'Tagesschau - s' + str(season) + 'e' + str(day_of_year) + '.mp4'), 'wb')\n",
    "        file.write(requests.get(episode_url).content)\n",
    "        file.close()"
   ]
  },
  {
   "cell_type": "code",
   "execution_count": 10,
   "id": "b3112c1d-eff9-484a-90b4-f6f0b3cad1a5",
   "metadata": {},
   "outputs": [],
   "source": [
    "# Parse the XML tree and retrieve the epsiodes for further processing\n",
    "for channel in root:\n",
    "    for child in channel:\n",
    "        if child.tag == 'item':\n",
    "            # This is an episode/item\n",
    "            process_episode(etree_to_dict(child))"
   ]
  },
  {
   "cell_type": "code",
   "execution_count": null,
   "id": "9aa34f85-502b-4094-a805-092505a1e26b",
   "metadata": {},
   "outputs": [],
   "source": [
    "# Use rclone to move files to Google Drive. Requires setup of sudo such that no password will be requested.\n",
    "\n",
    "os.system('sudo /usr/bin/rclone move /mnt/gdrive-local gdrive: --config /home/xander/.config/rclone/rclone.conf --log-file /opt/rclone/logs/upload.log --log-level INFO --delete-empty-src-dirs --fast-list --min-age 10s')"
   ]
  }
 ],
 "metadata": {
  "kernelspec": {
   "display_name": "Python 3 (ipykernel)",
   "language": "python",
   "name": "python3"
  },
  "language_info": {
   "codemirror_mode": {
    "name": "ipython",
    "version": 3
   },
   "file_extension": ".py",
   "mimetype": "text/x-python",
   "name": "python",
   "nbconvert_exporter": "python",
   "pygments_lexer": "ipython3",
   "version": "3.8.10"
  }
 },
 "nbformat": 4,
 "nbformat_minor": 5
}
